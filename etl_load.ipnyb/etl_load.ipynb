{
  "nbformat": 4,
  "nbformat_minor": 0,
  "metadata": {
    "colab": {
      "provenance": []
    },
    "kernelspec": {
      "name": "python3",
      "display_name": "Python 3"
    },
    "language_info": {
      "name": "python"
    }
  },
  "cells": [
    {
      "cell_type": "code",
      "execution_count": 1,
      "metadata": {
        "colab": {
          "base_uri": "https://localhost:8080/"
        },
        "id": "HBF9mFNeWvf8",
        "outputId": "2d61776c-5172-42eb-aa2a-76135f453e84"
      },
      "outputs": [
        {
          "output_type": "execute_result",
          "data": {
            "text/plain": [
              "(         id diagnosis  radius_mean  texture_mean  perimeter_mean  area_mean  \\\n",
              " 0    842302         M        17.99         10.38          122.80     1001.0   \n",
              " 1    842517         M        20.57         17.77          132.90     1326.0   \n",
              " 2  84300903         M        19.69         21.25          130.00     1203.0   \n",
              " 3  84348301         M        11.42         20.38           77.58      386.1   \n",
              " 4  84358402         M        20.29         14.34          135.10     1297.0   \n",
              " \n",
              "    smoothness_mean  compactness_mean  concavity_mean  concave points_mean  \\\n",
              " 0          0.11840           0.27760          0.3001              0.14710   \n",
              " 1          0.08474           0.07864          0.0869              0.07017   \n",
              " 2          0.10960           0.15990          0.1974              0.12790   \n",
              " 3          0.14250           0.28390          0.2414              0.10520   \n",
              " 4          0.10030           0.13280          0.1980              0.10430   \n",
              " \n",
              "    ...  texture_worst  perimeter_worst  area_worst  smoothness_worst  \\\n",
              " 0  ...          17.33           184.60      2019.0            0.1622   \n",
              " 1  ...          23.41           158.80      1956.0            0.1238   \n",
              " 2  ...          25.53           152.50      1709.0            0.1444   \n",
              " 3  ...          26.50            98.87       567.7            0.2098   \n",
              " 4  ...          16.67           152.20      1575.0            0.1374   \n",
              " \n",
              "    compactness_worst  concavity_worst  concave points_worst  symmetry_worst  \\\n",
              " 0             0.6656           0.7119                0.2654          0.4601   \n",
              " 1             0.1866           0.2416                0.1860          0.2750   \n",
              " 2             0.4245           0.4504                0.2430          0.3613   \n",
              " 3             0.8663           0.6869                0.2575          0.6638   \n",
              " 4             0.2050           0.4000                0.1625          0.2364   \n",
              " \n",
              "    fractal_dimension_worst  Unnamed: 32  \n",
              " 0                  0.11890          NaN  \n",
              " 1                  0.08902          NaN  \n",
              " 2                  0.08758          NaN  \n",
              " 3                  0.17300          NaN  \n",
              " 4                  0.07678          NaN  \n",
              " \n",
              " [5 rows x 33 columns],\n",
              " Index(['id', 'diagnosis', 'radius_mean', 'texture_mean', 'perimeter_mean',\n",
              "        'area_mean', 'smoothness_mean', 'compactness_mean', 'concavity_mean',\n",
              "        'concave points_mean', 'symmetry_mean', 'fractal_dimension_mean',\n",
              "        'radius_se', 'texture_se', 'perimeter_se', 'area_se', 'smoothness_se',\n",
              "        'compactness_se', 'concavity_se', 'concave points_se', 'symmetry_se',\n",
              "        'fractal_dimension_se', 'radius_worst', 'texture_worst',\n",
              "        'perimeter_worst', 'area_worst', 'smoothness_worst',\n",
              "        'compactness_worst', 'concavity_worst', 'concave points_worst',\n",
              "        'symmetry_worst', 'fractal_dimension_worst', 'Unnamed: 32'],\n",
              "       dtype='object'))"
            ]
          },
          "metadata": {},
          "execution_count": 1
        }
      ],
      "source": [
        "import pandas as pd\n",
        "import os\n",
        "from datetime import datetime\n",
        "\n",
        "# Paths\n",
        "data_path = '/content/data.csv'\n",
        "transform_dir = '/content/transformed'\n",
        "os.makedirs(transform_dir, exist_ok=True)\n",
        "\n",
        "# Load Data\n",
        "df = pd.read_csv(data_path)\n",
        "\n",
        "# Preview data and confirm available columns\n",
        "df.head(), df.columns\n"
      ]
    },
    {
      "cell_type": "code",
      "source": [
        "# 1. Remove duplicates\n",
        "df_full = df.drop_duplicates()\n",
        "\n",
        "# 2. Handle missing values (fill numerics with mean)\n",
        "df_full.fillna(df_full.mean(numeric_only=True), inplace=True)\n",
        "\n",
        "# 3. Replace 'M' and 'B' with 'Malignant' and 'Benign' in 'diagnosis' (if exists)\n",
        "if 'diagnosis' in df_full.columns:\n",
        "    df_full['diagnosis'] = df_full['diagnosis'].replace({'M': 'Malignant', 'B': 'Benign'})\n",
        "\n",
        "# 4. Add a new calculated column if columns exist\n",
        "if 'mean_radius' in df_full.columns and 'mean_texture' in df_full.columns:\n",
        "    df_full['radius_texture_product'] = df_full['mean_radius'] * df_full['mean_texture']\n",
        "\n",
        "# Save transformed full data\n",
        "full_save_path = os.path.join(transform_dir, 'transformed_full.csv')\n",
        "df_full.to_csv(full_save_path, index=False)\n",
        "\n",
        "print(\"Full transformation complete.\")\n",
        "\n",
        "# If id column exists for incremental check\n",
        "if 'id' in df_full.columns:\n",
        "    df_full['id'] = pd.to_datetime(df_full['id'])\n",
        "\n",
        "    # Simulate last extraction time (for example purposes)\n",
        "    last_extraction_time = pd.to_datetime('2025-01-01 00:00:00')\n",
        "\n",
        "    # Filter records after the last extraction\n",
        "    df_incremental = df_full[df_full['id'] > last_extraction_time]\n",
        "\n",
        "    # Save transformed incremental data\n",
        "    inc_save_path = os.path.join(transform_dir, 'transformed_incremental.csv')\n",
        "    df_incremental.to_csv(inc_save_path, index=False)\n",
        "\n",
        "    print(\"Incremental transformation complete.\")\n",
        "\n",
        "else:\n",
        "    print(\"No id column found for incremental transformation.\")\n",
        "\n"
      ],
      "metadata": {
        "colab": {
          "base_uri": "https://localhost:8080/"
        },
        "id": "d8IuCSUgaooF",
        "outputId": "c0ca4c42-5d99-4789-c209-9264a8e598f6"
      },
      "execution_count": 6,
      "outputs": [
        {
          "output_type": "stream",
          "name": "stdout",
          "text": [
            "Full transformation complete.\n",
            "Incremental transformation complete.\n"
          ]
        }
      ]
    },
    {
      "cell_type": "code",
      "source": [
        "import pandas as pd\n",
        "import sqlite3\n",
        "import os\n",
        "\n",
        "# Paths\n",
        "full_data_path = '/content/transformed/transformed_full.csv'\n",
        "incremental_data_path = '/content/transformed/transformed_incremental.csv'\n",
        "db_dir = '/content/loaded_data'\n",
        "os.makedirs(db_dir, exist_ok=True)\n",
        "\n",
        "full_db_path = os.path.join(db_dir, 'full_data.db')\n",
        "incremental_db_path = os.path.join(db_dir, 'incremental_data.db')\n",
        "\n",
        "# Load CSVs into DataFrames\n",
        "full_df = pd.read_csv(full_data_path)\n",
        "incremental_df = pd.read_csv(incremental_data_path)\n"
      ],
      "metadata": {
        "id": "4IiRFCYlcYGh"
      },
      "execution_count": 8,
      "outputs": []
    },
    {
      "cell_type": "code",
      "source": [
        "# Connect to SQLite DB for full data\n",
        "conn_full = sqlite3.connect(full_db_path)\n",
        "\n",
        "# Save to SQLite\n",
        "full_df.to_sql('full_data', conn_full, if_exists='replace', index=False)\n",
        "print(\"Full transformed data loaded into full_data.db\")\n",
        "\n",
        "# Close connection\n",
        "conn_full.close()\n"
      ],
      "metadata": {
        "colab": {
          "base_uri": "https://localhost:8080/"
        },
        "id": "-VPFwVKGdLEO",
        "outputId": "889d5f06-d22d-4052-effc-4522c29983b5"
      },
      "execution_count": 9,
      "outputs": [
        {
          "output_type": "stream",
          "name": "stdout",
          "text": [
            "✅ Full transformed data loaded into full_data.db\n"
          ]
        }
      ]
    },
    {
      "cell_type": "code",
      "source": [
        "# Connect to SQLite DB for incremental data\n",
        "conn_inc = sqlite3.connect(incremental_db_path)\n",
        "\n",
        "# Save to SQLite\n",
        "incremental_df.to_sql('incremental_data', conn_inc, if_exists='replace', index=False)\n",
        "print(\"Incremental transformed data loaded into incremental_data.db\")\n",
        "\n",
        "# Close connection\n",
        "conn_inc.close()\n"
      ],
      "metadata": {
        "colab": {
          "base_uri": "https://localhost:8080/"
        },
        "id": "HdM3T769dogT",
        "outputId": "5213f14f-57ee-4fd6-8b2b-5652426c25b9"
      },
      "execution_count": 10,
      "outputs": [
        {
          "output_type": "stream",
          "name": "stdout",
          "text": [
            "✅ Incremental transformed data loaded into incremental_data.db\n"
          ]
        }
      ]
    },
    {
      "cell_type": "code",
      "source": [
        "# Reconnect and preview loaded full data\n",
        "conn_full = sqlite3.connect(full_db_path)\n",
        "print(pd.read_sql_query(\"SELECT * FROM full_data LIMIT 5\", conn_full))\n",
        "\n",
        "# Close\n",
        "conn_full.close()\n"
      ],
      "metadata": {
        "colab": {
          "base_uri": "https://localhost:8080/"
        },
        "id": "L8F3IUx1d0fG",
        "outputId": "5486ee0e-5542-432f-af81-34aa07eb19be"
      },
      "execution_count": 11,
      "outputs": [
        {
          "output_type": "stream",
          "name": "stdout",
          "text": [
            "         id  diagnosis  radius_mean  texture_mean  perimeter_mean  area_mean  \\\n",
            "0    842302  Malignant        17.99         10.38          122.80     1001.0   \n",
            "1    842517  Malignant        20.57         17.77          132.90     1326.0   \n",
            "2  84300903  Malignant        19.69         21.25          130.00     1203.0   \n",
            "3  84348301  Malignant        11.42         20.38           77.58      386.1   \n",
            "4  84358402  Malignant        20.29         14.34          135.10     1297.0   \n",
            "\n",
            "   smoothness_mean  compactness_mean  concavity_mean  concave points_mean  \\\n",
            "0          0.11840           0.27760          0.3001              0.14710   \n",
            "1          0.08474           0.07864          0.0869              0.07017   \n",
            "2          0.10960           0.15990          0.1974              0.12790   \n",
            "3          0.14250           0.28390          0.2414              0.10520   \n",
            "4          0.10030           0.13280          0.1980              0.10430   \n",
            "\n",
            "   ...  texture_worst  perimeter_worst  area_worst  smoothness_worst  \\\n",
            "0  ...          17.33           184.60      2019.0            0.1622   \n",
            "1  ...          23.41           158.80      1956.0            0.1238   \n",
            "2  ...          25.53           152.50      1709.0            0.1444   \n",
            "3  ...          26.50            98.87       567.7            0.2098   \n",
            "4  ...          16.67           152.20      1575.0            0.1374   \n",
            "\n",
            "   compactness_worst  concavity_worst  concave points_worst  symmetry_worst  \\\n",
            "0             0.6656           0.7119                0.2654          0.4601   \n",
            "1             0.1866           0.2416                0.1860          0.2750   \n",
            "2             0.4245           0.4504                0.2430          0.3613   \n",
            "3             0.8663           0.6869                0.2575          0.6638   \n",
            "4             0.2050           0.4000                0.1625          0.2364   \n",
            "\n",
            "   fractal_dimension_worst  Unnamed: 32  \n",
            "0                  0.11890         None  \n",
            "1                  0.08902         None  \n",
            "2                  0.08758         None  \n",
            "3                  0.17300         None  \n",
            "4                  0.07678         None  \n",
            "\n",
            "[5 rows x 33 columns]\n"
          ]
        }
      ]
    }
  ]
}